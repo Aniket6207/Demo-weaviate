{
 "cells": [
  {
   "cell_type": "code",
   "execution_count": 1,
   "id": "8bde3659",
   "metadata": {},
   "outputs": [],
   "source": [
    "from getpass import getpass # hide password\n",
    "import weaviate # to communicate to the Weaviate instance\n",
    "from weaviate.wcs import WCS"
   ]
  },
  {
   "cell_type": "code",
   "execution_count": 2,
   "id": "10d6a65c",
   "metadata": {},
   "outputs": [
    {
     "data": {
      "text/plain": [
       "'https://demo-cluster-22.semi.network'"
      ]
     },
     "execution_count": 2,
     "metadata": {},
     "output_type": "execute_result"
    }
   ],
   "source": [
    "weaviate_url = 'https://demo-cluster-22.semi.network'\n",
    "weaviate_url"
   ]
  },
  {
   "cell_type": "code",
   "execution_count": 3,
   "id": "b114d704",
   "metadata": {},
   "outputs": [],
   "source": [
    "client = weaviate.Client(weaviate_url)"
   ]
  },
  {
   "cell_type": "code",
   "execution_count": 4,
   "id": "6de0f286",
   "metadata": {},
   "outputs": [
    {
     "data": {
      "text/plain": [
       "True"
      ]
     },
     "execution_count": 4,
     "metadata": {},
     "output_type": "execute_result"
    }
   ],
   "source": [
    "client.is_ready()"
   ]
  },
  {
   "cell_type": "code",
   "execution_count": 5,
   "id": "b219a8d4",
   "metadata": {},
   "outputs": [],
   "source": [
    "import pandas as pd\n",
    "df = pd.read_csv('zomato.csv')"
   ]
  },
  {
   "cell_type": "code",
   "execution_count": 6,
   "id": "b21a000d",
   "metadata": {},
   "outputs": [
    {
     "data": {
      "text/html": [
       "<div>\n",
       "<style scoped>\n",
       "    .dataframe tbody tr th:only-of-type {\n",
       "        vertical-align: middle;\n",
       "    }\n",
       "\n",
       "    .dataframe tbody tr th {\n",
       "        vertical-align: top;\n",
       "    }\n",
       "\n",
       "    .dataframe thead th {\n",
       "        text-align: right;\n",
       "    }\n",
       "</style>\n",
       "<table border=\"1\" class=\"dataframe\">\n",
       "  <thead>\n",
       "    <tr style=\"text-align: right;\">\n",
       "      <th></th>\n",
       "      <th>head</th>\n",
       "      <th>URL</th>\n",
       "      <th>Cuisines</th>\n",
       "      <th>PhoneNumber</th>\n",
       "      <th>AverageCost</th>\n",
       "    </tr>\n",
       "  </thead>\n",
       "  <tbody>\n",
       "    <tr>\n",
       "      <th>0</th>\n",
       "      <td>Sri Udupi Park</td>\n",
       "      <td>https://www.zomato.com/bangalore/sri-udupi-par...</td>\n",
       "      <td>South Indian, North Indian, Chinese, Street Fo...</td>\n",
       "      <td>9.20E+11</td>\n",
       "      <td>450</td>\n",
       "    </tr>\n",
       "    <tr>\n",
       "      <th>1</th>\n",
       "      <td>Meghana Foods</td>\n",
       "      <td>https://www.zomato.com/bangalore/meghana-foods...</td>\n",
       "      <td>Biryani, Andhra, North Indian, Seafood</td>\n",
       "      <td>9.18E+11</td>\n",
       "      <td>700</td>\n",
       "    </tr>\n",
       "    <tr>\n",
       "      <th>2</th>\n",
       "      <td>Donne Biriyani House</td>\n",
       "      <td>https://www.zomato.com/bangalore/donne-biriyan...</td>\n",
       "      <td>Biryani</td>\n",
       "      <td>9.19E+11</td>\n",
       "      <td>300</td>\n",
       "    </tr>\n",
       "    <tr>\n",
       "      <th>3</th>\n",
       "      <td>Domino's Pizza</td>\n",
       "      <td>https://www.zomato.com/bangalore/dominos-pizza...</td>\n",
       "      <td>Pizza, Fast Food, Desserts</td>\n",
       "      <td>9.20E+11</td>\n",
       "      <td>400</td>\n",
       "    </tr>\n",
       "    <tr>\n",
       "      <th>4</th>\n",
       "      <td>KFC</td>\n",
       "      <td>https://www.zomato.com/bangalore/kfc-indiranagar</td>\n",
       "      <td>Burger, Fast Food, Biryani, Desserts, Beverages</td>\n",
       "      <td>9.20E+11</td>\n",
       "      <td>400</td>\n",
       "    </tr>\n",
       "  </tbody>\n",
       "</table>\n",
       "</div>"
      ],
      "text/plain": [
       "                   head                                                URL  \\\n",
       "0        Sri Udupi Park  https://www.zomato.com/bangalore/sri-udupi-par...   \n",
       "1         Meghana Foods  https://www.zomato.com/bangalore/meghana-foods...   \n",
       "2  Donne Biriyani House  https://www.zomato.com/bangalore/donne-biriyan...   \n",
       "3        Domino's Pizza  https://www.zomato.com/bangalore/dominos-pizza...   \n",
       "4                   KFC   https://www.zomato.com/bangalore/kfc-indiranagar   \n",
       "\n",
       "                                            Cuisines PhoneNumber  AverageCost  \n",
       "0  South Indian, North Indian, Chinese, Street Fo...    9.20E+11          450  \n",
       "1             Biryani, Andhra, North Indian, Seafood    9.18E+11          700  \n",
       "2                                            Biryani    9.19E+11          300  \n",
       "3                         Pizza, Fast Food, Desserts    9.20E+11          400  \n",
       "4    Burger, Fast Food, Biryani, Desserts, Beverages    9.20E+11          400  "
      ]
     },
     "execution_count": 6,
     "metadata": {},
     "output_type": "execute_result"
    }
   ],
   "source": [
    "df.head()"
   ]
  },
  {
   "cell_type": "code",
   "execution_count": 7,
   "id": "cd2be990",
   "metadata": {},
   "outputs": [],
   "source": [
    "import uuid\n",
    "def generate_uuid(class_name: str, identifier: str,\n",
    "                  test: str = 'teststrong') -> str:\n",
    "    test = 'overwritten'\n",
    "    return str(uuid.uuid5(uuid.NAMESPACE_DNS, class_name + identifier))"
   ]
  },
  {
   "cell_type": "code",
   "execution_count": 8,
   "id": "9a6f571b",
   "metadata": {},
   "outputs": [],
   "source": [
    "client.schema.delete_all()\n",
    "schema = {\n",
    "    \"classes\": [\n",
    "        {\n",
    "            \"class\": \"Restaurant\",\n",
    "            \"description\": \"A Restaurant which is reviewed\",\n",
    "            \"properties\": [\n",
    "                {\n",
    "                    \"name\": \"head\",\n",
    "                    \"description\": \"The name of the restaurant\",\n",
    "                    \"dataType\": [\"text\"]\n",
    "                }, {\n",
    "                    \"name\": \"some\",\n",
    "                    \"description\": \"Website URL on zomato app\",\n",
    "                    \"dataType\": [\"text\"]\n",
    "                }, {\n",
    "                    \"name\": \"thing\",\n",
    "                    \"description\": \"Famous for which Cuisine\",\n",
    "                    \"dataType\": [\"string\"]\n",
    "                }, {\n",
    "                    \"name\": \"call\",\n",
    "                    \"description\": \"Phone Number\",\n",
    "                    \"dataType\": [\"phoneNumber\"]\n",
    "                }, {\n",
    "                    \"name\": \"money\",\n",
    "                    \"description\": \"The Average cost\",\n",
    "                    \"dataType\": [\"number\"]\n",
    "                }\n",
    "                \n",
    "            ]\n",
    "      \n",
    "        }\n",
    "    ]\n",
    "}\n",
    "\n",
    "client.schema.create(schema)"
   ]
  },
  {
   "cell_type": "code",
   "execution_count": 9,
   "id": "c7591231",
   "metadata": {},
   "outputs": [],
   "source": [
    "import datetime\n",
    "def log(i: str) -> str:\n",
    "    now = datetime.datetime.utcnow()\n",
    "    print(now, \"| \" + str(i))"
   ]
  },
  {
   "cell_type": "code",
   "execution_count": 10,
   "id": "fd585f90",
   "metadata": {},
   "outputs": [
    {
     "name": "stdout",
     "output_type": "stream",
     "text": [
      "{\n",
      "  \"classes\": [\n",
      "    {\n",
      "      \"class\": \"Restaurant\",\n",
      "      \"description\": \"A Restaurant which is reviewed\",\n",
      "      \"invertedIndexConfig\": {\n",
      "        \"cleanupIntervalSeconds\": 60\n",
      "      },\n",
      "      \"moduleConfig\": {\n",
      "        \"text2vec-contextionary\": {\n",
      "          \"vectorizeClassName\": true\n",
      "        }\n",
      "      },\n",
      "      \"properties\": [\n",
      "        {\n",
      "          \"dataType\": [\n",
      "            \"text\"\n",
      "          ],\n",
      "          \"description\": \"The name of the restaurant\",\n",
      "          \"moduleConfig\": {\n",
      "            \"text2vec-contextionary\": {\n",
      "              \"skip\": false,\n",
      "              \"vectorizePropertyName\": false\n",
      "            }\n",
      "          },\n",
      "          \"name\": \"head\"\n",
      "        },\n",
      "        {\n",
      "          \"dataType\": [\n",
      "            \"text\"\n",
      "          ],\n",
      "          \"description\": \"Website URL on zomato app\",\n",
      "          \"moduleConfig\": {\n",
      "            \"text2vec-contextionary\": {\n",
      "              \"skip\": false,\n",
      "              \"vectorizePropertyName\": false\n",
      "            }\n",
      "          },\n",
      "          \"name\": \"some\"\n",
      "        },\n",
      "        {\n",
      "          \"dataType\": [\n",
      "            \"string\"\n",
      "          ],\n",
      "          \"description\": \"Famous for which Cuisine\",\n",
      "          \"moduleConfig\": {\n",
      "            \"text2vec-contextionary\": {\n",
      "              \"skip\": false,\n",
      "              \"vectorizePropertyName\": false\n",
      "            }\n",
      "          },\n",
      "          \"name\": \"thing\"\n",
      "        },\n",
      "        {\n",
      "          \"dataType\": [\n",
      "            \"number\"\n",
      "          ],\n",
      "          \"description\": \"The Average cost\",\n",
      "          \"moduleConfig\": {\n",
      "            \"text2vec-contextionary\": {\n",
      "              \"skip\": false,\n",
      "              \"vectorizePropertyName\": false\n",
      "            }\n",
      "          },\n",
      "          \"name\": \"money\"\n",
      "        },\n",
      "        {\n",
      "          \"dataType\": [\n",
      "            \"phoneNumber\"\n",
      "          ],\n",
      "          \"description\": \"Phone Number\",\n",
      "          \"moduleConfig\": {\n",
      "            \"text2vec-contextionary\": {\n",
      "              \"skip\": false,\n",
      "              \"vectorizePropertyName\": false\n",
      "            }\n",
      "          },\n",
      "          \"name\": \"call\"\n",
      "        }\n",
      "      ],\n",
      "      \"shardingConfig\": {\n",
      "        \"virtualPerPhysical\": 128,\n",
      "        \"desiredCount\": 1,\n",
      "        \"actualCount\": 1,\n",
      "        \"desiredVirtualCount\": 128,\n",
      "        \"actualVirtualCount\": 128,\n",
      "        \"key\": \"_id\",\n",
      "        \"strategy\": \"hash\",\n",
      "        \"function\": \"murmur3\"\n",
      "      },\n",
      "      \"vectorIndexConfig\": {\n",
      "        \"skip\": false,\n",
      "        \"cleanupIntervalSeconds\": 300,\n",
      "        \"maxConnections\": 64,\n",
      "        \"efConstruction\": 128,\n",
      "        \"ef\": -1,\n",
      "        \"dynamicEfMin\": 100,\n",
      "        \"dynamicEfMax\": 500,\n",
      "        \"dynamicEfFactor\": 8,\n",
      "        \"vectorCacheMaxObjects\": 2000000,\n",
      "        \"flatSearchCutoff\": 40000\n",
      "      },\n",
      "      \"vectorIndexType\": \"hnsw\",\n",
      "      \"vectorizer\": \"text2vec-contextionary\"\n",
      "    }\n",
      "  ]\n",
      "}\n"
     ]
    }
   ],
   "source": [
    "import json\n",
    "# save schema to file\n",
    "with open('schema.json', 'w') as outfile: \n",
    "    json.dump(schema, outfile)\n",
    "# remove current schema from Weaviate, removes all the data too\n",
    "client.schema.delete_all()\n",
    "# import schema using file path\n",
    "client.schema.create('schema.json')\n",
    "# print schema\n",
    "print(json.dumps(client.schema.get(), indent=2))"
   ]
  },
  {
   "cell_type": "code",
   "execution_count": 11,
   "id": "f92e7712",
   "metadata": {},
   "outputs": [],
   "source": [
    "def add_res(data, batch_size=512, debug_mode=False): \n",
    "    no_items_in_batch = 0\n",
    "\n",
    "    for index, row in data.iterrows():\n",
    "        res_object = {\n",
    "            \"head\": row[\"head\"] + '.',\n",
    "            \"link\": row[\"URL\"],\n",
    "            \"bestFood\": row[\"Cuisines\"],\n",
    "            \"mobileNo\": row[\"PhoneNumber\"],\n",
    "            \"price\": row[\"AverageCost\"]\n",
    "        }\n",
    "\n",
    "        res_uuid = generate_uuid('wine', row[\"head\"]+row[\"URL\"]+row['Cuisines']+str(row['PhoneNumber'])+str(row['AverageCost']))\n",
    "\n",
    "        client.batch.add_data_object(res_object, \"Restaurant\", res_uuid)\n",
    "        no_items_in_batch += 1\n",
    "\n",
    "        if no_items_in_batch >= batch_size:\n",
    "            results = client.batch.create_objects()\n",
    "            \n",
    "            if debug_mode:\n",
    "                for result in results:\n",
    "                    if result['result'] != {}:\n",
    "                        log(result['result'])\n",
    "\n",
    "                message = str(index) + ' / ' + str(data.shape[0]) +  ' items imported'\n",
    "                log(message)\n",
    "\n",
    "            no_items_in_batch = 0\n",
    "\n",
    "    client.batch.create_objects()"
   ]
  },
  {
   "cell_type": "code",
   "execution_count": 12,
   "id": "69b2b937",
   "metadata": {},
   "outputs": [
    {
     "name": "stdout",
     "output_type": "stream",
     "text": [
      "2022-03-28 03:58:44.025265 | 499 / 2500 items imported\n",
      "2022-03-28 03:58:48.355587 | 999 / 2500 items imported\n",
      "2022-03-28 03:58:52.042157 | 1499 / 2500 items imported\n",
      "2022-03-28 03:58:56.199518 | 1999 / 2500 items imported\n",
      "2022-03-28 03:58:58.995467 | 2499 / 2500 items imported\n"
     ]
    }
   ],
   "source": [
    "add_res(df.head(2500), batch_size=500, debug_mode=True)"
   ]
  },
  {
   "cell_type": "code",
   "execution_count": 13,
   "id": "16f25cde",
   "metadata": {},
   "outputs": [],
   "source": [
    "result = client.query.get(class_name='Restaurant', properties=\"head\")\\\n",
    "    .do()"
   ]
  },
  {
   "cell_type": "code",
   "execution_count": 14,
   "id": "0ad386b0",
   "metadata": {},
   "outputs": [
    {
     "data": {
      "text/plain": [
       "{'data': {'Get': {'Restaurant': [{'head': 'Amritam Super Foods.'},\n",
       "    {'head': 'Call Me Chow.'},\n",
       "    {'head': 'Desi Dhaba.'},\n",
       "    {'head': 'Apsara Ice Creams.'},\n",
       "    {'head': 'Shanmukha.'},\n",
       "    {'head': 'Thalassery Restaurant.'},\n",
       "    {'head': 'Falahaar & Kota Kachori.'},\n",
       "    {'head': 'Sattvam.'},\n",
       "    {'head': \"Andhra Ruchi's Restaurant.\"},\n",
       "    {'head': 'Kavuni Kitchen.'},\n",
       "    {'head': 'Nellore Vaari Andhra Bhojanam And Biryanis.'},\n",
       "    {'head': 'Momo Point.'},\n",
       "    {'head': 'Burger Seigneur.'},\n",
       "    {'head': 'MAA Products Restaurant.'},\n",
       "    {'head': 'Sundae Everyday Ice Creams.'},\n",
       "    {'head': 'Paratha Plaza.'},\n",
       "    {'head': 'The Biryani Zone - By Kouzina.'},\n",
       "    {'head': 'Ledikeni Sweets & Savouries.'},\n",
       "    {'head': 'Third Wave Coffee.'},\n",
       "    {'head': 'The Pizza Bakery - All Day Eatery.'},\n",
       "    {'head': 'S.M.S.Evening Fast Food.'},\n",
       "    {'head': 'EasyBites by Empire.'},\n",
       "    {'head': 'Mainland China.'},\n",
       "    {'head': 'Aubree.'},\n",
       "    {'head': 'Fattoush.'},\n",
       "    {'head': 'The Dessert Zone.'},\n",
       "    {'head': \"Baker's Home Cakes & Desserts.\"},\n",
       "    {'head': 'Sandwich@59.'},\n",
       "    {'head': 'Momo Zone - The Momo Company.'},\n",
       "    {'head': 'Burgers And Shakes.'},\n",
       "    {'head': 'Big Bowl Company.'},\n",
       "    {'head': 'Shawarma Hub.'},\n",
       "    {'head': 'Chowman.'},\n",
       "    {'head': 'WOW! Momo.'},\n",
       "    {'head': 'Sreeraj Lassi Bar.'},\n",
       "    {'head': 'New Surya Sweets & Snacks.'},\n",
       "    {'head': 'Maa Mangala Odia Restaurant.'},\n",
       "    {'head': 'Pizza Crunch.'},\n",
       "    {'head': 'Slurpy Shakes.'},\n",
       "    {'head': 'Wow Kolkata.'},\n",
       "    {'head': 'Facecake.'},\n",
       "    {'head': 'KFC.'},\n",
       "    {'head': 'Laddoos.'},\n",
       "    {'head': 'Sardarji Londonwaley.'},\n",
       "    {'head': 'Spice Biome.'},\n",
       "    {'head': 'DA Ying Yang Cuisines.'},\n",
       "    {'head': 'Punjabi Nawabi.'},\n",
       "    {'head': 'Pizza @99.'},\n",
       "    {'head': 'CakeZone.'},\n",
       "    {'head': 'Behrouz Kilo Biryani.'},\n",
       "    {'head': 'Kolkata Biryani & Kabab Factory.'},\n",
       "    {'head': 'AL Bain Restaurant.'},\n",
       "    {'head': 'XO Belgian Waffle.'},\n",
       "    {'head': 'Nu.Tree.'},\n",
       "    {'head': 'Tummy Full.'},\n",
       "    {'head': 'Asia Live.'},\n",
       "    {'head': 'Mane Holige.'},\n",
       "    {'head': 'Bangalore Thindies  .'},\n",
       "    {'head': 'Tadka Punjabi Restaurant.'},\n",
       "    {'head': 'Kilo Biryani.'},\n",
       "    {'head': \"Auntie Fung's.\"},\n",
       "    {'head': 'Mamagoto.'},\n",
       "    {'head': 'Qissa .'},\n",
       "    {'head': 'Royal Restaurant.'},\n",
       "    {'head': 'Meghana Biryani.'},\n",
       "    {'head': 'Melange - Radisson Blu.'},\n",
       "    {'head': 'Go Native.'},\n",
       "    {'head': 'Village Donne Biryani.'},\n",
       "    {'head': 'Absolute Shawarma.'},\n",
       "    {'head': 'Anand Sweets and Savouries.'},\n",
       "    {'head': 'Firangi Bake.'},\n",
       "    {'head': \"Reddy's Veg & Non Veg.\"},\n",
       "    {'head': 'Biryani Xpress.'},\n",
       "    {'head': 'LeanCrust Pizza - ThinCrust Experts.'},\n",
       "    {'head': 'Ashirwad Kitchens .'},\n",
       "    {'head': 'SL Vadapav.'},\n",
       "    {'head': 'Namma Madurai Militri.'},\n",
       "    {'head': 'Hyderabadi Handi Biryani.'},\n",
       "    {'head': 'Ghar Da Swaad.'},\n",
       "    {'head': 'Globo Ice Creams of the World.'},\n",
       "    {'head': \"Bheema's.\"},\n",
       "    {'head': 'Kaati Zone Rolls And Wraps.'},\n",
       "    {'head': 'Belgian Waffle Factory .'},\n",
       "    {'head': 'Snacafe.'},\n",
       "    {'head': \"Curry Point's.\"},\n",
       "    {'head': 'Sri Hari Chennakesava Andhra Mess.'},\n",
       "    {'head': 'Hopshaus.'},\n",
       "    {'head': 'Ocean Cake.'},\n",
       "    {'head': 'Punjabi Zaika.'},\n",
       "    {'head': 'Odia Pakhala.'},\n",
       "    {'head': 'The Cake Zone.'},\n",
       "    {'head': 'Alishan Biryani .'},\n",
       "    {'head': 'N Neerav Chinese Cuisine.'},\n",
       "    {'head': 'Natural Ice Cream.'},\n",
       "    {'head': 'Kabab Biryani Corner.'},\n",
       "    {'head': 'New Taj Darbar.'},\n",
       "    {'head': 'So Sweet.'},\n",
       "    {'head': 'Patty Bambulati.'},\n",
       "    {'head': 'Icy Spicy.'},\n",
       "    {'head': 'Faasos - Wraps & Rolls.'}]}}}"
      ]
     },
     "execution_count": 14,
     "metadata": {},
     "output_type": "execute_result"
    }
   ],
   "source": [
    "result"
   ]
  },
  {
   "cell_type": "code",
   "execution_count": 15,
   "id": "0ba6ad2f",
   "metadata": {},
   "outputs": [
    {
     "data": {
      "text/plain": [
       "{'data': {'Get': {'Restaurant': [{'bestFood': 'Pizza, Pasta, Italian, Continental, Fast Food, Salad, Desserts, Beverages'},\n",
       "    {'bestFood': 'Pizza, Pasta, Italian, Continental, Fast Food, Salad, Desserts, Beverages'},\n",
       "    {'bestFood': 'Pizza, Burger, Pasta, Fast Food'},\n",
       "    {'bestFood': 'Pizza, Desserts'},\n",
       "    {'bestFood': 'Pizza, Fast Food, Desserts, Beverages'},\n",
       "    {'bestFood': 'Pizza, Pasta, Italian, Continental, Fast Food, Salad, Desserts, Beverages'},\n",
       "    {'bestFood': 'Pizza, Fast Food, Desserts, Beverages'},\n",
       "    {'bestFood': 'Pizza, Fast Food, Desserts, Beverages'},\n",
       "    {'bestFood': 'Pizza, Fast Food, Desserts, Beverages'},\n",
       "    {'bestFood': 'Pizza, Fast Food, Beverages, Desserts'}]}}}"
      ]
     },
     "execution_count": 15,
     "metadata": {},
     "output_type": "execute_result"
    }
   ],
   "source": [
    "client.query.get(class_name='Restaurant', properties=\"bestFood\")\\\n",
    "    .with_limit(10)\\\n",
    "    .with_near_text({'concepts': ['Pizza']})\\\n",
    "    .do()"
   ]
  },
  {
   "cell_type": "code",
   "execution_count": 17,
   "id": "4ace0f5b",
   "metadata": {},
   "outputs": [
    {
     "data": {
      "text/plain": [
       "{'data': {'Get': {'Restaurant': [{'head': 'Burger King.'},\n",
       "    {'head': 'Burger King.'},\n",
       "    {'head': 'Burger King.'},\n",
       "    {'head': 'Boss Burger.'},\n",
       "    {'head': 'Meat and Eat.'}]}}}"
      ]
     },
     "execution_count": 17,
     "metadata": {},
     "output_type": "execute_result"
    }
   ],
   "source": [
    "client.query.get(class_name='Restaurant', properties=\"head\")\\\n",
    "    .with_limit(5)\\\n",
    "    .with_near_text({'concepts': ['Burger']})\\\n",
    "    .do()"
   ]
  },
  {
   "cell_type": "code",
   "execution_count": null,
   "id": "20b23777",
   "metadata": {},
   "outputs": [],
   "source": []
  }
 ],
 "metadata": {
  "kernelspec": {
   "display_name": "Python 3 (ipykernel)",
   "language": "python",
   "name": "python3"
  },
  "language_info": {
   "codemirror_mode": {
    "name": "ipython",
    "version": 3
   },
   "file_extension": ".py",
   "mimetype": "text/x-python",
   "name": "python",
   "nbconvert_exporter": "python",
   "pygments_lexer": "ipython3",
   "version": "3.10.1"
  }
 },
 "nbformat": 4,
 "nbformat_minor": 5
}
